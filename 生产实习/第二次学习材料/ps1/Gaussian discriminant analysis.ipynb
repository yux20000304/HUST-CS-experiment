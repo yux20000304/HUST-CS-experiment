{
 "cells": [
  {
   "cell_type": "markdown",
   "metadata": {},
   "source": [
    "# 问题三\n",
    "\n",
    "已知条件：假设我们给了一个有m个独立变量的数据集$$(x_{i},y_{i})$$\n",
    "\n",
    "并且对于y为-1或者1是，对于x都有x属于n维高斯离散分布\n",
    "\n",
    "### 问题a\n",
    "描述：假设我们已经知道了高斯分布的几个参数，现在我们想根据输入的一组x向量做出预测，这里需要我们证明根据x对标签y做出的预测的分布和逻辑回归中的sigmoid函数是同一种形式\n",
    "\n",
    "首先根据贝叶斯公式我们有\n",
    "\n",
    "\\begin{equation*} \n",
    "    \\begin{split}\n",
    "        p(y=1|x;\\phi, \\Sigma, \\mu_1, \\mu_{-1})\n",
    "         &= \\frac{p(x|y=1)p(y=1)}{p(x|y=1)p(y=1)+p(x|y=-1)p(y=-1)}  \\\\\n",
    "         &= \\frac{1}{1+\\frac{p(x|y=-1)p(y=-1)}{p(x|y=1)p(y=1)}} \\\\\n",
    "    \\end{split}\n",
    "\\end{equation*}  \n",
    "\n",
    "根据题目中给出的关于x的分布函数带入式子可以得到：\n",
    "\n",
    "\\begin{equation*} \n",
    "    \\begin{split}\n",
    "        p(y=1|x;\\phi, \\Sigma, \\mu_1, \\mu_-1)\n",
    "         &= \\frac{1}{1+exp(-y(ln\\frac{\\phi}{1-\\phi}+\\frac{1}{2}((x-\\mu_{-1})^T\\Sigma^{-1}(x-\\mu_{-1})-(x-\\mu_{1})^T\\Sigma^{-1}(x-\\mu_{1}))} \\\\\n",
    "         &= \\frac{1}{1+exp(-y(ln\\frac{\\phi}{1-\\phi}+(\\mu_1-\\mu_{-1})\\Sigma^{-1}x+\\frac{1}{2}(\\mu_{-1}\\Sigma^{-1}\\mu_{-1}-\\mu_{1}\\Sigma^{-1}\\mu_{1})))} \\\\\n",
    "    \\end{split}\n",
    "\\end{equation*} \n",
    "\n",
    "我们可以看到这个时候的分母形式和我们的sigmoid函数是一致的，进一步转换参数可以得到sidmoid形式的参数\n",
    "\n",
    "$ \\theta = (\\mu_1-\\mu_{-1})\\Sigma^{-1} $\n",
    "    $ \\theta_0 = ln\\frac{\\phi}{1-\\phi} + 1/2(\\mu_{-1}\\Sigma^{-1}\\mu_{-1}-\\mu_{1}\\Sigma^{-1}\\mu_{1}) $\n",
    "   \n",
    "证明完成"
   ]
  },
  {
   "cell_type": "markdown",
   "metadata": {},
   "source": [
    "### 问题b\n",
    "\n",
    "首先这里考虑的情况是x的维数为1，即这里的x分布是简单的一维正态分布这里给出了log-liklihood函数，需要我们通过自己的推导证明给出的极大似然估计函数形式是正确的，以及确实是在以上这种参数取值的情况下取得最大值\n",
    "\n",
    "首先假设这里一共有m个样本，根据之前所给出的分布函数取对数可以得到以下式子\n",
    "\n",
    "$$ l(\\theta,\\mu_{-1}, \\mu_1, \\Sigma)\n",
    "       = mlog(\\frac{1}{(2\\pi)^{n/2}|\\Sigma|^{1/2}})+m_1log\\phi+m_{-1}log(1-\\phi)\n",
    "        +\\sum_{i=1}^{m}(-\\frac{1}{2})(x^{(i)}-\\mu_{y^{(i)}})^T\\Sigma^{-1}(x^{(i)}-\\mu_{y^{(i)}}) $$\n",
    "        \n",
    "把上述liklihood函数分别对$\\theta,\\Sigma,\\mu_{1},\\mu_{-1}$求偏导数\n",
    "$$ \\frac{\\partial l}{\\partial \\phi} = \\frac{m_1-m\\phi}{\\phi(1-\\phi)}$$\n",
    "    $$ \\frac{\\partial l}{\\partial \\mu_1} = \\frac{\\sum_{i=1}^{m_1}(x^{(i)}-\\mu_1)}{\\Sigma}$$\n",
    "    $$ \\frac{\\partial l}{\\partial \\mu_{-1}} = \\frac{\\sum_{j=1}^{m_1}(x^{(j)}-\\mu_{-1})}{\\Sigma}$$\n",
    "    $$ \\frac{\\partial l}{\\partial \\Sigma} = \\frac{-\\frac{1}{2}(m\\Sigma-\\sum_{i=1}^{m}(x^{(i)}-\\mu_{y^(i)})^T(x^{(i)}-\\mu_{y^(i)}))}{\\Sigma^{2}}$$\n",
    "    \n",
    "当以上的倒数都为0是，liklihood函数取最大值，进一步化简得到的各参数表达式形式与题干中所给形式一致，得证"
   ]
  },
  {
   "cell_type": "code",
   "execution_count": null,
   "metadata": {},
   "outputs": [],
   "source": []
  }
 ],
 "metadata": {
  "kernelspec": {
   "display_name": "Python 3",
   "language": "python",
   "name": "python3"
  },
  "language_info": {
   "codemirror_mode": {
    "name": "ipython",
    "version": 3
   },
   "file_extension": ".py",
   "mimetype": "text/x-python",
   "name": "python",
   "nbconvert_exporter": "python",
   "pygments_lexer": "ipython3",
   "version": "3.8.5"
  }
 },
 "nbformat": 4,
 "nbformat_minor": 4
}
