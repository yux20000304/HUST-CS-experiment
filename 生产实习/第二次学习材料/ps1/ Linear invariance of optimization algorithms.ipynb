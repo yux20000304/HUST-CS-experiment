{
 "cells": [
  {
   "cell_type": "markdown",
   "metadata": {},
   "source": [
    "# 问题4\n",
    "\n",
    "### 问题a\n",
    "\n",
    "题目条件：需要我们考虑使用循环优化算法来最小化一些连续可微的函数，表明牛顿法具有线性不变性\n",
    "\n",
    "根据牛顿法的原理我们有\n",
    "\n",
    "$$ x^{(i+1)} = x^{(i)} - \\frac{f(x^{(i)})}{f'(x^{i})} $$\n",
    "\n",
    "因此\n",
    "\n",
    "\\begin{equation*} \n",
    "    \\begin{split}\n",
    "    z^{(i+1)} &= z^{(i)} - \\frac{g(z^{(i)})}{g'(z^{(i)})} \\\\\n",
    "              &= z^{(i)} - \\frac{f(Az^{(i)})}{f'(Az^{(i)})} \\\\\n",
    "              &= A^{(-1)}x^{(i)} - A^{(-1)}(x^{(i)}-x^{(i+1)}) \\\\\n",
    "              &= A^{(-1)}x^{(i+1)}\n",
    "    \\end{split}\n",
    "\\end{equation*} \n",
    "\n",
    "得证"
   ]
  },
  {
   "cell_type": "markdown",
   "metadata": {},
   "source": [
    "### 问题b\n",
    "\n",
    "\\begin{equation*} \n",
    "    \\begin{split}\n",
    "    z^{(i+1)} &= z^{(i)} - \\alpha g'(z^{(i)}) \\\\\n",
    "              &= A^{(-1)} x^{(i)} - A( x^{(i)} - x^{(i+1)} ) \\\\\n",
    "              &\\neq A^{(-1)}x^{(i+1)}\n",
    "    \\end{split}\n",
    "\\end{equation*} "
   ]
  },
  {
   "cell_type": "code",
   "execution_count": null,
   "metadata": {},
   "outputs": [],
   "source": []
  }
 ],
 "metadata": {
  "kernelspec": {
   "display_name": "Python 3",
   "language": "python",
   "name": "python3"
  },
  "language_info": {
   "codemirror_mode": {
    "name": "ipython",
    "version": 3
   },
   "file_extension": ".py",
   "mimetype": "text/x-python",
   "name": "python",
   "nbconvert_exporter": "python",
   "pygments_lexer": "ipython3",
   "version": "3.8.5"
  }
 },
 "nbformat": 4,
 "nbformat_minor": 4
}
