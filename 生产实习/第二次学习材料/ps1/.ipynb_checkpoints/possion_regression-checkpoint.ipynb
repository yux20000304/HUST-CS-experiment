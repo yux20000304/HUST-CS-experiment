{
 "cells": [
  {
   "cell_type": "markdown",
   "metadata": {},
   "source": [
    "## 问题二\n",
    "### a\n",
    "证明泊松分布是指数族的，并指出各参数的值\n",
    "\n",
    "$$\n",
    "\\begin{align*}\n",
    "    p(y;\\lambda) &= \\frac{e^{-\\lambda}\\lambda^{y}}{y!} \\\\\n",
    "            &= \\frac{1}{y!}exp(log\\lambda^y - loge^\\lambda)\\\\ \n",
    "            &= \\frac{1}{y!}exp(log\\lambda y - \\lambda)\n",
    "\\end{align*}\n",
    "$$\n",
    "\n",
    "- $b(y) = \\frac{1}{y!}$\n",
    "- $T(y) = y$\n",
    "- $\\eta = \\log \\lambda$\n",
    "- $a(\\eta) = e^{\\eta}$"
   ]
  },
  {
   "cell_type": "markdown",
   "metadata": {},
   "source": [
    "### b\n",
    "考虑使用具有泊松响应的GLM模型执行回归变量。什么是该类型的典型反应函数？\n",
    "\n",
    "首先根据泊松分布的特性，期望为λ\n",
    "$$\n",
    "\\begin{equation*} \n",
    "    \\begin{split}\n",
    "        h_\\theta(x) &= E[y|x;\\theta] \\\\\n",
    "                    &= \\lambda \\\\\n",
    "                    &= e^\\eta = e^{\\theta^Tx} \\\\\n",
    "    \\end{split}\n",
    "\\end{equation*}\n",
    "$$\n",
    "因此响应函数为\n",
    " $$ g(\\eta) = e^\\eta $$."
   ]
  },
  {
   "cell_type": "markdown",
   "metadata": {},
   "source": [
    "### c\n",
    "这里要求我们推导出基于泊松响应GLM模型的随机梯度上升的学习规则以及正则响应函数\n",
    "\n",
    "由于知道了泊松分布的概率分布表达式，因此可以推导出log函数\n",
    "$$\n",
    "\\begin{equation*} \n",
    "    \\begin{split}\n",
    "        l(\\theta) \n",
    "        &= \\sum_{k=1}^m (-logy^{(k)}!) + (-\\lambda) + y^{(k)}log\\lambda \\\\\n",
    "        &= \\sum_{k=1}^m (-logy^{(k)}!) + (-e^{\\theta^Tx^{(k)}}) + y^{(k)}\\theta^Tx^{(k)} \\\\\n",
    "    \\end{split}\n",
    "\\end{equation*} \n",
    "$$\n",
    "\n",
    "接着对$L(\\theta)$求偏导\n",
    "\n",
    "$$ \\frac{\\partial l(\\theta)}{\\partial \\theta_i} \n",
    "       = \\sum_{k=1}^m (y^{(k)}-e^{\\theta^Tx^{(k)}})x^{(k)}_i\n",
    "$$\n",
    "\n",
    "最后得到梯度上升更新规则\n",
    "\n",
    "$$\n",
    "    \\theta_i = \\theta_i + \\alpha(y^{(k)}-e^{\\theta^Tx^{(k)}})x^{(k)}_i\n",
    "$$"
   ]
  },
  {
   "cell_type": "code",
   "execution_count": null,
   "metadata": {},
   "outputs": [],
   "source": []
  }
 ],
 "metadata": {
  "kernelspec": {
   "display_name": "Python 3",
   "language": "python",
   "name": "python3"
  },
  "language_info": {
   "codemirror_mode": {
    "name": "ipython",
    "version": 3
   },
   "file_extension": ".py",
   "mimetype": "text/x-python",
   "name": "python",
   "nbconvert_exporter": "python",
   "pygments_lexer": "ipython3",
   "version": "3.8.5"
  }
 },
 "nbformat": 4,
 "nbformat_minor": 4
}
