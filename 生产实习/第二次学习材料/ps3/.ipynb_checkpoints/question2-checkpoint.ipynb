{
 "cells": [
  {
   "cell_type": "markdown",
   "metadata": {},
   "source": [
    "首先：\n",
    "    \\begin{equation*}\n",
    "        \\begin{split}\n",
    "            l(\\theta) &= \\sum_{i=1}^m log[\\sum_{z^{(i)}}Q_i(z^{(i)})\\frac{p(x^{(i)},z^{(i)}|\\theta)}{Q_i(z^{(i)})}] + logp(\\theta) \\\\\n",
    "            &\\geq \\sum_{i=1}^m \\sum_{z^{(i)}}Q_i(z^{(i)})log\\frac{p(x^{(i)},z^{(i)}|\\theta)}{Q_i(z^{(i)})} + logp(\\theta)\n",
    "        \\end{split}\n",
    "    \\end{equation*}\n",
    "   $$Q_i(z^{(i)})=p(z^{(i)}|x^{(i)},\\theta)$$\n",
    "    根据詹森不等式：\n",
    "    $$l(\\theta)=\\sum_{i=1}^m \\sum_{z^{(i)}}Q_i(z^{(i)})log\\frac{p(x^{(i)},z^{(i)}|\\theta)}{Q_i(z^{(i)})} + logp(\\theta)$$\n",
    "    $$Q_i(z^{(i)})=p(z^{(i)}|x^{(i)},\\theta)$$\n",
    "       $$\\theta={argmax}_{\\theta}[\\sum_{i=1}^m \\sum_{z^{(i)}}Q_i(z^{(i)})log\\frac{p(x^{(i)},z^{(i)}|\\theta)}{Q_i(z^{(i)})} + logp(\\theta)]$$\n",
    "    在我们的假设中，M步是可处理的。那我们有\n",
    "    \\begin{equation*}\n",
    "        \\begin{split}\n",
    "            l(\\theta^{(t+1)}) \n",
    "            &\\geq \\sum_{i=1}^m \\sum_{z^{(i)}}Q_i(z^{(i)})log\\frac{p(x^{(i)},z^{(i)}|\\theta^{(t+1)})}{Q_i(z^{(i)})} + logp(\\theta^{(t+1)}) \\\\\n",
    "            &\\geq \\sum_{i=1}^m \\sum_{z^{(i)}}Q_i(z^{(i)})log\\frac{p(x^{(i)},z^{(i)}|\\theta^{(t)})}{Q_i(z^{(i)})} + logp(\\theta^{(t)}) \\\\\n",
    "            &= l(\\theta^{(t)}) \n",
    "        \\end{split}\n",
    "    \\end{equation*}\n",
    "    这种可能性随着算法的每次迭代而单调增加"
   ]
  }
 ],
 "metadata": {
  "kernelspec": {
   "display_name": "Python 3",
   "language": "python",
   "name": "python3"
  },
  "language_info": {
   "codemirror_mode": {
    "name": "ipython",
    "version": 3
   },
   "file_extension": ".py",
   "mimetype": "text/x-python",
   "name": "python",
   "nbconvert_exporter": "python",
   "pygments_lexer": "ipython3",
   "version": "3.8.5"
  }
 },
 "nbformat": 4,
 "nbformat_minor": 4
}
