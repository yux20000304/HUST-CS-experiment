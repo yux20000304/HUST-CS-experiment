{
 "cells": [
  {
   "cell_type": "markdown",
   "metadata": {},
   "source": [
    "- 问题1\n",
    "\\begin{equation*}\n",
    "            \\begin{split}\n",
    "                KL(P||Q) &= \\sum_x P(x)-log\\frac{Q(X)}{P(X)}\\\\\n",
    "                &\\geq  -log\\sum_x(P(x)\\frac{Q(X)}{P(X)})\\\\\n",
    "                &= -log\\sum_x Q(x)\\\\\n",
    "            \\end{split}\n",
    "        \\end{equation*}\n",
    "如果 $P=Q$, $KL(P||Q)= 0$. \\\\\n",
    "- 问题2 \n",
    "\\begin{equation*}\n",
    "            \\begin{split}\n",
    "                KL(P(X)||Q(X)) + KL(P(Y|X)||Q(Y|X))&= \\sum_x P(x) log\\frac{P(x)}{Q(x)} + \\sum_x P(x)(\\sum_yP(y|x)log\\frac{P(y|x)}{Q(y|x)})\\\\\n",
    "                &=\\sum_x P(x) (\\sum_yP(y|x)log(\\frac{P(x)}{Q(x)} \\frac{P(y|x)}{Q(y|x)})\\\\\n",
    "                &=\\sum_x \\sum_y P(x,y) log(\\frac{P(y,x)}{Q(y,x)}) \\\\\n",
    "                &=KL(P(Y,X)||Q(Y,X))\n",
    "            \\end{split}\n",
    "        \\end{equation*}\n",
    "- 问题3 \n",
    "\\begin{equation*}\n",
    "            \\begin{split}\n",
    "                KL(\\hat{P}||P_{\\theta})&= \\sum_x \\hat{P} log\\frac{\\hat{P}(x)}{P_\\theta (x)} \\\\\n",
    "                &= -\\sum_x \\frac{1}{m} \\Sigma_{i=1}^m \\boldsymbol{1}\\{x^{(i)}=x\\} log\\frac{P_\\theta (x)}{\\Sigma_{i=1}^m \\boldsymbol{1}\\{x^{(i)}=x\\}}\\\\\n",
    "                &= -\\frac{1}{m} \\Sigma_{i=1}^m logP_\\theta (x^{(i)})\n",
    "            \\end{split}\n",
    "        \\end{equation*}\n",
    "因此可以调整 $\\theta$ 来最大化loglikl函数"
   ]
  }
 ],
 "metadata": {
  "kernelspec": {
   "display_name": "Python 3",
   "language": "python",
   "name": "python3"
  },
  "language_info": {
   "codemirror_mode": {
    "name": "ipython",
    "version": 3
   },
   "file_extension": ".py",
   "mimetype": "text/x-python",
   "name": "python",
   "nbconvert_exporter": "python",
   "pygments_lexer": "ipython3",
   "version": "3.8.5"
  }
 },
 "nbformat": 4,
 "nbformat_minor": 4
}
