{
 "cells": [
  {
   "cell_type": "markdown",
   "metadata": {},
   "source": [
    "### 简单的数据说明\n",
    "\n",
    "通过阅读任务指导书我们可以知道每一个邮件已经经过一定的处理转换成了词向量了，每一个matrix文件中前面是词典包含的各种词语，后面的每一行都是一个邮件含有的各种词语的记录每一行以-1结束"
   ]
  },
  {
   "cell_type": "code",
   "execution_count": 1,
   "metadata": {},
   "outputs": [],
   "source": [
    "import pandas as pd\n",
    "import matplotlib.pyplot as plt\n",
    "import numpy as np\n",
    "import seaborn as sns\n",
    "from __future__ import division"
   ]
  },
  {
   "cell_type": "code",
   "execution_count": 2,
   "metadata": {},
   "outputs": [],
   "source": [
    "#下面都是本来的nb.py文件中已经提供给我的函数，不过有一些函数还需要自己完善\n",
    "\n",
    "#读取矩阵函数\n",
    "def readMatrix(file):\n",
    "    #读取文件\n",
    "    fd = open(file, 'r')\n",
    "    #按行读取读取第一行\n",
    "    hdr = fd.readline()\n",
    "    #读取第二行切片后删除头尾空格字符\n",
    "    rows, cols = [int(s) for s in fd.readline().strip().split()]\n",
    "    #读取第三行就是我们的词典\n",
    "    tokens = fd.readline().strip().split()\n",
    "    #为我们的矩阵生成空间\n",
    "    matrix = np.zeros((rows, cols))\n",
    "    Y = []\n",
    "    #接下来按行读取\n",
    "    for i, line in enumerate(fd):\n",
    "        #按照int类型来读取\n",
    "        nums = [int(x) for x in line.strip().split()]\n",
    "        #读取标签\n",
    "        Y.append(nums[0])\n",
    "        #读取词向量\n",
    "        kv = np.array(nums[1:])\n",
    "        #将词向量的每个词出现的次数加上之前出现的词的总数,间距为2,代表了序号\n",
    "        k = np.cumsum(kv[:-1:2])\n",
    "        #代表了出现的次数\n",
    "        v = kv[1::2]\n",
    "        matrix[i, k] = v\n",
    "    return matrix, tokens, np.array(Y)\n",
    "\n",
    "def nb_train(matrix, category):\n",
    "    state = {}\n",
    "    N = matrix.shape[1]\n",
    "    ###################\n",
    "    is_spam=matrix[category==1]\n",
    "    not_spam=matrix[category==0]\n",
    "    \n",
    "    spam_lengths=is_spam.sum(axis=1)\n",
    "    not_spam_lengths=not_spam.sum(axis=1)\n",
    "    \n",
    "    state['is_spam'] = (is_spam.sum(axis = 0) + 1) / (np.sum(spam_lengths) + N)\n",
    "    state['not_spam'] = (not_spam.sum(axis = 0) + 1) / (np.sum(not_spam_lengths) + N)\n",
    "    state['phi'] = is_spam.shape[0]/(is_spam.shape[0]+not_spam.shape[0])\n",
    "    ###################\n",
    "    return state\n",
    "\n",
    "def nb_test(matrix, state):\n",
    "    output = np.zeros(matrix.shape[0])\n",
    "    ###################\n",
    "    log_phi_spam = np.sum( np.log(state['is_spam'])*matrix, axis = 1)\n",
    "    log_phi_nospam = np.sum( np.log(state['not_spam'])*matrix, axis = 1)\n",
    "    phi = state['phi']\n",
    "    \n",
    "    ratio = np.exp(log_phi_nospam + np.log(1 - phi) - log_phi_spam - np.log(phi))\n",
    "    probs = 1 / (1 + ratio)\n",
    "    \n",
    "    output[probs > 0.5] = 1\n",
    "    ###################\n",
    "    return output\n",
    "\n",
    "def evaluate(output, label):\n",
    "    error = (output != label).sum() * 1. / len(output)\n",
    "    print ('Error: %1.4f' % error)\n",
    "    return error\n",
    "\n",
    "def main():\n",
    "    trainMatrix, tokenlist, trainCategory = readMatrix('./data/spam_data/spam_data/MATRIX.TRAIN')\n",
    "    testMatrix, tokenlist, testCategory = readMatrix('./data/spam_data/spam_data/MATRIX.TEST')\n",
    "\n",
    "    state = nb_train(trainMatrix, trainCategory)\n",
    "    output = nb_test(testMatrix, state)\n",
    "\n",
    "    evaluate(output, testCategory)\n",
    "    return"
   ]
  },
  {
   "cell_type": "code",
   "execution_count": 3,
   "metadata": {
    "scrolled": true
   },
   "outputs": [
    {
     "name": "stdout",
     "output_type": "stream",
     "text": [
      "Error: 0.0163\n"
     ]
    }
   ],
   "source": [
    "main()"
   ]
  },
  {
   "cell_type": "code",
   "execution_count": 4,
   "metadata": {
    "scrolled": true
   },
   "outputs": [
    {
     "name": "stdout",
     "output_type": "stream",
     "text": [
      "Error: 0.0387\n",
      "Error: 0.0262\n",
      "Error: 0.0262\n",
      "Error: 0.0187\n",
      "Error: 0.0175\n",
      "Error: 0.0163\n"
     ]
    }
   ],
   "source": [
    "train_sizes = np.array([50, 100, 200, 400, 800, 1400])\n",
    "errors = np.ones(train_sizes.shape)\n",
    "for i,train_size in enumerate(train_sizes):\n",
    "    trainMatrix, tokenlist, trainCategory = readMatrix('./data/spam_data/spam_data/MATRIX.TRAIN.'+str(train_size))\n",
    "    testMatrix, tokenlist, testCategory = readMatrix('./data/spam_data/spam_data/MATRIX.TEST')\n",
    "    state = nb_train(trainMatrix, trainCategory)\n",
    "    output = nb_test(testMatrix, state)\n",
    "    errors[i] = evaluate(output, testCategory)"
   ]
  },
  {
   "cell_type": "code",
   "execution_count": 5,
   "metadata": {},
   "outputs": [
    {
     "data": {
      "text/plain": [
       "Text(0, 0.5, 'Test Error (%)')"
      ]
     },
     "execution_count": 5,
     "metadata": {},
     "output_type": "execute_result"
    },
    {
     "data": {
      "image/png": "[encoded data removed]",
      "text/plain": [
       "<Figure size 432x288 with 1 Axes>"
      ]
     },
     "metadata": {
      "needs_background": "light"
     },
     "output_type": "display_data"
    }
   ],
   "source": [
    "plt.plot(train_sizes,errors*100)\n",
    "plt.ylim(0,5)\n",
    "plt.xlim(0,1500)\n",
    "plt.xlabel('Training Size')\n",
    "plt.ylabel('Test Error (%)')"
   ]
  },
  {
   "cell_type": "code",
   "execution_count": 6,
   "metadata": {},
   "outputs": [],
   "source": [
    "import svm"
   ]
  },
  {
   "cell_type": "code",
   "execution_count": 7,
   "metadata": {},
   "outputs": [
    {
     "name": "stdout",
     "output_type": "stream",
     "text": [
      "Error: 0.0225\n",
      "Error: 0.0175\n",
      "Error: 0.0075\n",
      "Error: 0.0025\n",
      "Error: 0.0000\n",
      "Error: 0.0000\n"
     ]
    }
   ],
   "source": [
    "errors_svm = np.ones(train_sizes.shape)\n",
    "testMatrix, tokenlist, testCategory = svm.readMatrix('./data/spam_data/spam_data/MATRIX.TEST')\n",
    "for i,train_size in enumerate(train_sizes):\n",
    "    trainMatrix, tokenlist, trainCategory = svm.readMatrix('./data/spam_data/spam_data/MATRIX.TRAIN.'+str(train_size))\n",
    "    state = svm.svm_train(trainMatrix, trainCategory)\n",
    "    output = svm.svm_test(testMatrix, state)\n",
    "    errors_svm[i] = svm.evaluate(output, testCategory)"
   ]
  },
  {
   "cell_type": "code",
   "execution_count": 8,
   "metadata": {},
   "outputs": [
    {
     "data": {
      "text/plain": [
       "<matplotlib.legend.Legend at 0x1e9a366b6a0>"
      ]
     },
     "execution_count": 8,
     "metadata": {},
     "output_type": "execute_result"
    },
    {
     "data": {
      "image/png": "[encoded data removed]",
      "text/plain": [
       "<Figure size 432x288 with 1 Axes>"
      ]
     },
     "metadata": {
      "needs_background": "light"
     },
     "output_type": "display_data"
    }
   ],
   "source": [
    "plt.plot(train_sizes,errors*100, label=\"Naive Bayes\")\n",
    "plt.plot(train_sizes,errors_svm*100, label=\"SVM\")\n",
    "plt.xlabel('Training Size')\n",
    "plt.ylabel('Test Error (%)')\n",
    "plt.legend(loc='upper right')"
   ]
  }
 ],
 "metadata": {
  "kernelspec": {
   "display_name": "Python 3",
   "language": "python",
   "name": "python3"
  },
  "language_info": {
   "codemirror_mode": {
    "name": "ipython",
    "version": 3
   },
   "file_extension": ".py",
   "mimetype": "text/x-python",
   "name": "python",
   "nbconvert_exporter": "python",
   "pygments_lexer": "ipython3",
   "version": "3.8.5"
  }
 },
 "nbformat": 4,
 "nbformat_minor": 4
}
