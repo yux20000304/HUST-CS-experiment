{
 "cells": [
  {
   "cell_type": "markdown",
   "metadata": {},
   "source": [
    "### problem5-a\n",
    "\n",
    "Let $K$ be a Mercer kernel with mapping $\\phi: R^n \\to E $:\n",
    "\n",
    "$$\n",
    "\\begin{align*}\n",
    "K(x, y) &\\mapsto \\langle \\phi(x), \\phi(y) \\rangle \\\\\n",
    "\\end{align*}\n",
    "$$\n",
    "\n",
    "$\\theta^i$ can be represented as $K(\\theta^i,x^i )$\n",
    "\n",
    "### problem5-b\n",
    "\n",
    "\n",
    "$h_{\\theta^i} (x^{i+1}) = g( {\\theta^i}^T \\phi(x^{i+1}) ) = g( K ({\\theta^i} ,x^{i+1}) ) $\n",
    "\n",
    "### problem5-c\n",
    "\n",
    "Simply remap the update rule by using $K$:\n",
    "\n",
    "$$\n",
    "K (\\theta^{i+1} ,x^{i+1}) := K ({\\theta^i} ,x^{i+1})+ \\alpha y^{i+1}.1 \\left \\{ y^{i+1}g \\left( K ({\\theta^i} ,x^{i+1}) \\right) \\right \\}. K(x^{i+1},x^{i+1})\n",
    "$$\n"
   ]
  }
 ],
 "metadata": {
  "kernelspec": {
   "display_name": "Python 3",
   "language": "python",
   "name": "python3"
  },
  "language_info": {
   "codemirror_mode": {
    "name": "ipython",
    "version": 3
   },
   "file_extension": ".py",
   "mimetype": "text/x-python",
   "name": "python",
   "nbconvert_exporter": "python",
   "pygments_lexer": "ipython3",
   "version": "3.8.5"
  }
 },
 "nbformat": 4,
 "nbformat_minor": 4
}
