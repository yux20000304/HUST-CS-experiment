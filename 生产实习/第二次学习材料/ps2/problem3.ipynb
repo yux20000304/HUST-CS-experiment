{
 "cells": [
  {
   "cell_type": "markdown",
   "metadata": {},
   "source": [
    "### problem3\n",
    "- 题目描述\n",
    "\n",
    "考虑使用贝叶斯先验得得逻辑回归，需要我们证明使用最大后验概率的$ \\theta_{MAP} $比最大似然估计的$ \\theta_{MLE} $的模更小\n",
    "\n",
    "- 思路\n",
    "\n",
    "使用反证法：假设MAP比MLE更大，那么有\n",
    "$$ p(\\theta_{MAP})<p(\\theta_{MLE}) $$\n",
    "左右同时乘上\n",
    "$$ p(\\theta_{MAP})\\prod_{i=1}^{m}p(y^{(i)}|x^{(i)};\\theta_{MAP})<p(\\theta_{MLE})\\prod_{i=1}^{m}p(y^{(i)}|x^{(i)};\\theta_{MAP})\n",
    "\\\\ < p(\\theta_{MLE}) \\prod_{i=1}^m p(y^i |x^i; \\theta_{MLE})  $$\n",
    "发现这里与我们的假设矛盾了"
   ]
  }
 ],
 "metadata": {
  "kernelspec": {
   "display_name": "Python 3",
   "language": "python",
   "name": "python3"
  },
  "language_info": {
   "codemirror_mode": {
    "name": "ipython",
    "version": 3
   },
   "file_extension": ".py",
   "mimetype": "text/x-python",
   "name": "python",
   "nbconvert_exporter": "python",
   "pygments_lexer": "ipython3",
   "version": "3.8.5"
  }
 },
 "nbformat": 4,
 "nbformat_minor": 4
}
