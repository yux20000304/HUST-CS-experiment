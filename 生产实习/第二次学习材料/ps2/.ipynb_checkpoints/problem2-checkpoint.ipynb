{
 "cells": [
  {
   "cell_type": "markdown",
   "metadata": {},
   "source": [
    "### question2-a\n",
    "- 题目大意\n",
    "\n",
    "要我们证明逻辑回归能够输出一个概率来表示预测为1的概率\n",
    "\n",
    "- 思路\n",
    "\n",
    "首先根据逻辑函数的成本函数的导数为0这一个条件推导出导数为0时的等式\n",
    "\n",
    "$$ \\sum_{i=1}^m(y^{(i)}-h(x^{(i)}))x^{(i)}_j = 0 $$\n",
    "\n",
    "由于$ x_{0}=1 $可以推出这个式子的前一项为0，后一项不为0，前一项为0的推导得出\n",
    "$$ \\sum_{i=1}^mh(x^{(i)}) = \\boldsymbol{1}\\{y^{(i)}=1\\} $$\n",
    "得证"
   ]
  },
  {
   "cell_type": "markdown",
   "metadata": {},
   "source": [
    "### question2-b\n",
    "- 题目大意\n",
    "\n",
    "证明如果我们有一个经过完美校准的二元分类模型，我们刚刚证明的性质适用于任何（a，b）⊂[0，1]——这是否必然意味着模型达到了完美的精确度？反过来一定是真的吗？\n",
    "\n",
    "- 思路\n",
    "\n",
    "如果有一个经过完美校准的二元分类模型，只是代表我们的模型对于训练数据达到了完美，并不能保证对于其他的数据集达到了完美的精确度，反过来的化一定是真的。"
   ]
  },
  {
   "cell_type": "markdown",
   "metadata": {},
   "source": [
    "### question2-c\n",
    "-题目大意\n",
    "\n",
    "这里的成本函数添加了$ \\theta^{2} $\n",
    "\n",
    "- 解答\n",
    "\n",
    "最后输出的概率多出了一个2c$ \\theta_{0} $"
   ]
  }
 ],
 "metadata": {
  "kernelspec": {
   "display_name": "Python 3",
   "language": "python",
   "name": "python3"
  },
  "language_info": {
   "codemirror_mode": {
    "name": "ipython",
    "version": 3
   },
   "file_extension": ".py",
   "mimetype": "text/x-python",
   "name": "python",
   "nbconvert_exporter": "python",
   "pygments_lexer": "ipython3",
   "version": "3.8.5"
  }
 },
 "nbformat": 4,
 "nbformat_minor": 4
}
