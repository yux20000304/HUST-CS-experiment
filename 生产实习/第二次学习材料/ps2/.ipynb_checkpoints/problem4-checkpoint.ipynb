{
 "cells": [
  {
   "cell_type": "markdown",
   "metadata": {},
   "source": [
    "### question4\n",
    "\n",
    "首先我还是想说一下自己对于核函数的理解，首先是可以把低维数据映射到高维，其次可以减少运算次数，具体的除了可以在SVM上使用，还可以在逻辑回归上使用，帮助逻辑回归拥有非线性分类的能力"
   ]
  },
  {
   "cell_type": "markdown",
   "metadata": {},
   "source": [
    "a. 正确因为K1,K2都是大于0，K1+K2一定大于0\n",
    "\n",
    "b. 错误，不能保证K1-K2仍大于0\n",
    "\n",
    "c. a大于0的时候正确\n",
    "\n",
    "d. a小于0的时候正确\n",
    "\n",
    "e. 正确\n",
    "- 证明过程\n",
    "\n",
    "$$ K(x,z) = \\phi_1(x)^T\\phi_1(z)\\phi_2(x)^T\\phi_2(z) \\\\\n",
    "                = \\sum_{i,j} \\phi_1(x)_i\\phi_1(z)_i\\phi_2(x)_j\\phi_2(z)_j \\\\\n",
    "                = \\sum_{i,j} [\\phi_1(x)_i\\phi_2(x)_j][\\phi_2(x)_j\\phi_1(z)_i] $$\n",
    "f. 正确\n",
    "\n",
    "e. 正确\n",
    "\n",
    "g. 正确\n",
    "\n",
    "f. 正确"
   ]
  }
 ],
 "metadata": {
  "kernelspec": {
   "display_name": "Python 3",
   "language": "python",
   "name": "python3"
  },
  "language_info": {
   "codemirror_mode": {
    "name": "ipython",
    "version": 3
   },
   "file_extension": ".py",
   "mimetype": "text/x-python",
   "name": "python",
   "nbconvert_exporter": "python",
   "pygments_lexer": "ipython3",
   "version": "3.8.5"
  }
 },
 "nbformat": 4,
 "nbformat_minor": 4
}
